{
 "cells": [
  {
   "cell_type": "code",
   "execution_count": 1,
   "metadata": {},
   "outputs": [],
   "source": [
    "# Importing required libraries\n",
    "\n",
    "import time\n",
    "import datetime\n",
    "\n",
    "from bs4 import BeautifulSoup\n",
    "from selenium import webdriver\n",
    "\n",
    "from pymongo import MongoClient"
   ]
  },
  {
   "cell_type": "code",
   "execution_count": 2,
   "metadata": {},
   "outputs": [],
   "source": [
    "# Creating a connection to MongoDB\n",
    "client = MongoClient('localhost', 27017)\n",
    "db = client['news']\n",
    "collection = db['elespectador']"
   ]
  },
  {
   "cell_type": "code",
   "execution_count": 3,
   "metadata": {},
   "outputs": [],
   "source": [
    "# Base URL of the site to be analyzed\n",
    "SITE_URL = 'https://www.elespectador.com'"
   ]
  },
  {
   "cell_type": "code",
   "execution_count": 4,
   "metadata": {},
   "outputs": [],
   "source": [
    "# Firefox web driver path\n",
    "# Download the driver for you S.O. here: https://github.com/mozilla/geckodriver/releases\n",
    "DRIVER_PATH = './geckodriver.exe'"
   ]
  },
  {
   "cell_type": "code",
   "execution_count": 5,
   "metadata": {},
   "outputs": [
    {
     "name": "stderr",
     "output_type": "stream",
     "text": [
      "<ipython-input-5-c8b61cbdd697>:2: DeprecationWarning: executable_path has been deprecated, please pass in a Service object\n",
      "  browser = webdriver.Firefox(executable_path = DRIVER_PATH)\n"
     ]
    }
   ],
   "source": [
    "# Creating a new firefox window\n",
    "browser = webdriver.Firefox(executable_path = DRIVER_PATH)"
   ]
  },
  {
   "cell_type": "code",
   "execution_count": 6,
   "metadata": {},
   "outputs": [],
   "source": [
    "def make_request(browser, relative_path):\n",
    "    # Making the request and rendering the browser\n",
    "    browser.get(SITE_URL + relative_path)\n",
    "    \n",
    "    # Simulating vertical scrolling for handling lazy load\n",
    "    check_height = browser.execute_script('return document.body.scrollHeight;')\n",
    "    while True:\n",
    "        browser.execute_script('window.scrollTo(0, document.body.scrollHeight);')\n",
    "        time.sleep(3)\n",
    "        height = browser.execute_script('return document.body.scrollHeight;')\n",
    "        if height == check_height: \n",
    "            break \n",
    "        check_height = height\n",
    "    \n",
    "    # Getting HTML content and passing it to BeautifulSoup for scraping analysis\n",
    "    return BeautifulSoup(browser.page_source, 'html.parser')"
   ]
  },
  {
   "cell_type": "code",
   "execution_count": 7,
   "metadata": {},
   "outputs": [
    {
     "name": "stdout",
     "output_type": "stream",
     "text": [
      "2\n",
      "2\n",
      "2\n",
      "2\n",
      "2\n",
      "2\n",
      "2\n",
      "2\n",
      "2\n",
      "2\n",
      "2\n",
      "2\n",
      "2\n",
      "2\n",
      "2\n"
     ]
    }
   ],
   "source": [
    "# Getting HTML content for news listing page\n",
    "mayor = ['archivo']\n",
    "categoria = ['politica', 'ciencia', 'salud', 'educacion', 'judicial']\n",
    "paginacion = [1, 2, 3]\n",
    "\n",
    "\n",
    "for m in mayor:\n",
    "    for c in categoria:\n",
    "        for p in paginacion:\n",
    "            soup = make_request(browser, '/'+m+'/'+c+'/'+str(p)+'/')\n",
    "            # Finding the section where news are contained \n",
    "            layout = soup.find(class_ = 'Layout-flexAds')\n",
    "            # Getting blocks from layout\n",
    "            blocks = layout.find('section').find_all(recursive = False)\n",
    "            print(len(blocks)) # 3 blocks founded, 2 for news and 1 for pagintion\n",
    "            # Finding and concatenating news cards\n",
    "            cards = blocks[0].find_all(class_ = 'Card') + blocks[1].find_all(class_ = 'Card')\n",
    "            len(cards)\n",
    "            news = []\n",
    "\n",
    "            for card in cards:\n",
    "                news.append({\n",
    "                    'title': card.find('h2', class_ = 'Card-Title').find('a').get_text(),\n",
    "                    'relative_path': card.find('h2', class_ = 'Card-Title').find('a')['href']\n",
    "                })\n",
    "            \n",
    "            news\n",
    "            for n in news:\n",
    "                # Getting HTML content for news page\n",
    "                soup = make_request(browser, n['relative_path'])\n",
    "\n",
    "                # Extracting news metadata\n",
    "                \n",
    "                if soup.find(class_ = 'ArticleHeader-Date'):\n",
    "                    \n",
    "                    var = soup.find(class_ = 'ArticleHeader-Date').get_text()\n",
    "                    x = []\n",
    "                    x = var.split('-')                            \n",
    "                    newvar = ''.join(char for char in x[0] if char.isalnum())\n",
    "                    var2 = newvar.replace(\"sept\",\"sep\")\n",
    "                    n['datetime'] = datetime.datetime.strptime(var2, \"%d%b%Y\")\n",
    "                    #n['datetime'] = soup.find(class_ = 'ArticleHeader-Date').get_text()\n",
    "                else:\n",
    "                    n['datetime'] = 'Nada'\n",
    "                    \n",
    "                if soup.find(class_ = 'ACredit-Author').find('a'):\n",
    "                    n['author'] = soup.find(class_ = 'ACredit-Author').find('a').get_text() \n",
    "                else:\n",
    "                    n['author'] = 'Nada'\n",
    "                    \n",
    "                if soup.find(class_ = 'ArticleHeader-Hook').find('div'):\n",
    "                    n['summary'] = soup.find(class_ = 'ArticleHeader-Hook').find('div').get_text()\n",
    "                else:\n",
    "                    n['summary'] = 'Nada'\n",
    "                \n",
    "\n",
    "                # Extracting and concatenating news full text\n",
    "                paragraphs = soup.find_all(class_ = 'font--secondary')\n",
    "                n['full_text'] = ' '.join([p.get_text() for p in paragraphs])\n",
    "            news\n",
    "            # Storing extracted information for further analysis\n",
    "            collection.insert_many(news)"
   ]
  },
  {
   "cell_type": "code",
   "execution_count": null,
   "metadata": {},
   "outputs": [],
   "source": []
  }
 ],
 "metadata": {
  "kernelspec": {
   "display_name": "Python 3",
   "language": "python",
   "name": "python3"
  },
  "language_info": {
   "codemirror_mode": {
    "name": "ipython",
    "version": 3
   },
   "file_extension": ".py",
   "mimetype": "text/x-python",
   "name": "python",
   "nbconvert_exporter": "python",
   "pygments_lexer": "ipython3",
   "version": "3.8.8"
  }
 },
 "nbformat": 4,
 "nbformat_minor": 4
}
